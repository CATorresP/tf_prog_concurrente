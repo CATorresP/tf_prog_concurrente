{
 "cells": [
  {
   "cell_type": "code",
   "execution_count": 1,
   "metadata": {},
   "outputs": [],
   "source": [
    "import json\n",
    "\n",
    "with open('config/master.json', 'r') as file:\n",
    "    data = json.load(file)\n",
    "\n",
    "with open('model/model.json', 'r') as file:\n",
    "    model = json.load(file)\n",
    "\n",
    "model['P'] = []\n",
    "data['modelConfig'] = model\n",
    "\n",
    "with open('config/master.json', 'w') as file:\n",
    "    json.dump(data, file, indent=4)"
   ]
  },
  {
   "cell_type": "code",
   "execution_count": 2,
   "metadata": {},
   "outputs": [],
   "source": [
    "with open('config/master.json', 'r') as file:\n",
    "    data = json.load(file)\n",
    "\n",
    "data1 = dict()\n",
    "data1['genres'] = data['movieGenreNames']\n",
    "\n",
    "with open('dataset/genres.json', 'w') as file:\n",
    "    json.dump(data1, file, indent=4)"
   ]
  }
 ],
 "metadata": {
  "kernelspec": {
   "display_name": "machine-learning",
   "language": "python",
   "name": "python3"
  },
  "language_info": {
   "codemirror_mode": {
    "name": "ipython",
    "version": 3
   },
   "file_extension": ".py",
   "mimetype": "text/x-python",
   "name": "python",
   "nbconvert_exporter": "python",
   "pygments_lexer": "ipython3",
   "version": "3.11.9"
  }
 },
 "nbformat": 4,
 "nbformat_minor": 2
}
